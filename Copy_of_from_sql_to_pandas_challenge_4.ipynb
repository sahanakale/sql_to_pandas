{
  "cells": [
    {
      "cell_type": "markdown",
      "metadata": {
        "id": "view-in-github",
        "colab_type": "text"
      },
      "source": [
        "<a href=\"https://colab.research.google.com/github/sahanakale/sql_to_pandas/blob/main/Copy_of_from_sql_to_pandas_challenge_4.ipynb\" target=\"_parent\"><img src=\"https://colab.research.google.com/assets/colab-badge.svg\" alt=\"Open In Colab\"/></a>"
      ]
    },
    {
      "cell_type": "markdown",
      "metadata": {
        "id": "KUJayK0H_uXt"
      },
      "source": [
        "# From SQL to Pandas Challenge 4"
      ]
    },
    {
      "cell_type": "code",
      "execution_count": null,
      "metadata": {
        "id": "vzeDBFaE_uXw"
      },
      "outputs": [],
      "source": [
        "# import libraries\n",
        "import pandas as pd\n",
        "\n",
        "# load data\n",
        "# This code is made to load our data stored on Google Drive\n",
        "def gd_path(file_id):\n",
        "    \"\"\"Generate a shareable link from Google Drive file id.\"\"\"\n",
        "    return f\"https://drive.google.com/uc?export=download&id={file_id}\"\n",
        "\n",
        "# Google Drive file ids\n",
        "files_id = {\n",
        "    \"titleauthor\": \"1F1JOiYXStWacOBca6coNVfyVtoST7ZgD\",\n",
        "    \"titles\": \"1PLdn50N9GRa53ZbuVWo0l47F_IXdvlEm\",\n",
        "    \"stores\": \"1f-GCgip7O93CpbAkYvOsc21eKnSOSHsQ\", \n",
        "    \"sales\": \"1fzFc9rwYmVIPaGOFmhLVxCi3kg19vNU2\", \n",
        "    \"roysched\": \"1zPRZPoFPEMKyrNR5VSENeYFHGCBZmxbs\", \n",
        "    \"publishers\": \"1s9E8_AVOziTrowb3wyh2jg3PV763VOyq\",\n",
        "    \"pub_info\": \"1OEgogcGKy--EpuVj0kqq7lyBZNGW6YSv\", \n",
        "    \"jobs\": \"1V1Za8hUdXD-vJOyRdX4aQV5wanIff2eM\", \n",
        "    \"employee\": \"1h9mUjsVqpP74b1w0x7KOw37n_n9Ulkt5\", \n",
        "    \"discounts\": \"111dvSxMcCsTgOuV1wDSKFJxO1Xcxd9VS\", \n",
        "    \"authors\": \"1fEF89Nhe61EebAljKlwFwfEuokK0o6aJ\"\n",
        "}\n",
        "\n",
        "# Read data from Google Drive\n",
        "sales = pd.read_csv(gd_path(files_id[\"sales\"]), sep=\";\")\n",
        "authors = pd.read_csv(gd_path(files_id[\"authors\"]), sep=\";\")\n",
        "publishers = pd.read_csv(gd_path(files_id[\"publishers\"]), sep=\";\")\n",
        "titles = pd.read_csv(gd_path(files_id[\"titles\"]), sep=\";\")\n",
        "employee = pd.read_csv(gd_path(files_id[\"employee\"]), sep=\";\")"
      ]
    },
    {
      "cell_type": "markdown",
      "metadata": {
        "id": "T4J1paO1_uXx"
      },
      "source": [
        "## 1. From how many different states are our authors?"
      ]
    },
    {
      "cell_type": "code",
      "execution_count": null,
      "metadata": {
        "id": "1cEJQnTJ_uXy",
        "colab": {
          "base_uri": "https://localhost:8080/"
        },
        "outputId": "68fafb69-680b-4f10-bad4-7f0d77c406e1"
      },
      "outputs": [
        {
          "output_type": "execute_result",
          "data": {
            "text/plain": [
              "8"
            ]
          },
          "metadata": {},
          "execution_count": 42
        }
      ],
      "source": [
        "authors.state.nunique()\n"
      ]
    },
    {
      "cell_type": "markdown",
      "metadata": {
        "id": "WRW1VF6z_uXy"
      },
      "source": [
        "### Hint:"
      ]
    },
    {
      "cell_type": "markdown",
      "metadata": {
        "id": "UA96jteb_uXy"
      },
      "source": [
        "In SQL the syntax is:\n",
        "\n",
        "```sql\n",
        "SELECT COUNT(DISTINCT state) \n",
        "FROM authors;\n",
        "```"
      ]
    },
    {
      "cell_type": "markdown",
      "metadata": {
        "id": "SWUjIn3z_uXz"
      },
      "source": [
        "## 2. How many publishers are based in the USA?"
      ]
    },
    {
      "cell_type": "code",
      "execution_count": null,
      "metadata": {
        "id": "9DoCNgTt_uXz",
        "colab": {
          "base_uri": "https://localhost:8080/"
        },
        "outputId": "4cc4bdb6-36a8-4db7-bf5f-aa36ff25c331"
      },
      "outputs": [
        {
          "output_type": "execute_result",
          "data": {
            "text/plain": [
              "8"
            ]
          },
          "metadata": {},
          "execution_count": 20
        }
      ],
      "source": [
        "len(publishers[\"country\"].str.contains(\"USA\"))\n",
        "\n"
      ]
    },
    {
      "cell_type": "code",
      "source": [],
      "metadata": {
        "id": "zDrkI1JwRCRV"
      },
      "execution_count": null,
      "outputs": []
    },
    {
      "cell_type": "markdown",
      "metadata": {
        "id": "doCxa8T3_uXz"
      },
      "source": [
        "### Hint:"
      ]
    },
    {
      "cell_type": "markdown",
      "metadata": {
        "id": "UYThVfeR_uX0"
      },
      "source": [
        "In SQL the syntax is:\n",
        "\n",
        "```sql\n",
        "SELECT  COUNT(pub_id)\n",
        "FROM publishers \n",
        "WHERE country =\"USA\" ;\n",
        "```"
      ]
    },
    {
      "cell_type": "markdown",
      "metadata": {
        "id": "DslQ5wTJ_uX0"
      },
      "source": [
        "## 3. What's the average quantity of titles sold per sale by store 7131?"
      ]
    },
    {
      "cell_type": "code",
      "execution_count": null,
      "metadata": {
        "id": "JTeNa6gR_uX0",
        "colab": {
          "base_uri": "https://localhost:8080/"
        },
        "outputId": "8121b39e-6719-4024-df65-ed70053e0b0e"
      },
      "outputs": [
        {
          "output_type": "execute_result",
          "data": {
            "text/plain": [
              "0.2857142857142857"
            ]
          },
          "metadata": {},
          "execution_count": 46
        }
      ],
      "source": [
        "sales\n",
        "#sales[(sales['stor_id' == 7131]) & (sales[['qty']].agg(['mean', 'count']))]\n",
        "df3 = sales['stor_id'] == 7131\n",
        "df3.agg('mean')\n"
      ]
    },
    {
      "cell_type": "markdown",
      "metadata": {
        "id": "vZpMw5ae_uX0"
      },
      "source": [
        "### Hint:"
      ]
    },
    {
      "cell_type": "markdown",
      "metadata": {
        "id": "_i519z8C_uX1"
      },
      "source": [
        "In SQL the syntax is:\n",
        "\n",
        "```sql\n",
        "SELECT AVG(qty)\n",
        "FROM sales\n",
        "WHERE stor_id=7131;\n",
        "```"
      ]
    },
    {
      "cell_type": "markdown",
      "metadata": {
        "id": "n_22Uae8_uX1"
      },
      "source": [
        "## 4. When was the employee with the highest level hired?"
      ]
    },
    {
      "cell_type": "code",
      "execution_count": null,
      "metadata": {
        "id": "YZj-q5ht_uX1",
        "colab": {
          "base_uri": "https://localhost:8080/"
        },
        "outputId": "c9f6030a-cb7b-4950-da31-d400adbc314d"
      },
      "outputs": [
        {
          "output_type": "execute_result",
          "data": {
            "text/plain": [
              "26    1989-03-01 00:00:00\n",
              "Name: hire_date, dtype: object"
            ]
          },
          "metadata": {},
          "execution_count": 57
        }
      ],
      "source": [
        "employee\n",
        "df4 = employee.sort_values(\"job_lvl\",ascending=False)\n",
        "df4.hire_date.head(1)\n",
        "#df4"
      ]
    },
    {
      "cell_type": "markdown",
      "metadata": {
        "id": "aCtncCqt_uX1"
      },
      "source": [
        "### Hint:"
      ]
    },
    {
      "cell_type": "markdown",
      "metadata": {
        "id": "CeGL6saO_uX1"
      },
      "source": [
        "In SQL the syntax is:\n",
        "\n",
        "```sql\n",
        "SELECT hire_date\n",
        "FROM employee\n",
        "ORDER BY job_lvl DESC\n",
        "LIMIT 1;\n",
        "```"
      ]
    },
    {
      "cell_type": "markdown",
      "metadata": {
        "id": "DpNCbLPr_uX1"
      },
      "source": [
        "## 5. What's the average price of psychology books?"
      ]
    },
    {
      "cell_type": "code",
      "execution_count": null,
      "metadata": {
        "id": "CdTI_8z5_uX2",
        "colab": {
          "base_uri": "https://localhost:8080/"
        },
        "outputId": "d96272b1-c1eb-42bb-e185-81acc9d76e24"
      },
      "outputs": [
        {
          "output_type": "execute_result",
          "data": {
            "text/plain": [
              "13.504"
            ]
          },
          "metadata": {},
          "execution_count": 75
        }
      ],
      "source": [
        "titles\n",
        "df5 = titles[titles[\"type\"].str.contains(\"psychology\")]\n",
        "df5.price.agg('mean')\n"
      ]
    },
    {
      "cell_type": "markdown",
      "metadata": {
        "id": "NlsSMaUU_uX2"
      },
      "source": [
        "### Hint:"
      ]
    },
    {
      "cell_type": "markdown",
      "metadata": {
        "id": "pLz9CtDG_uX2"
      },
      "source": [
        "In SQL the syntax is:\n",
        "\n",
        "```sql\n",
        "SELECT AVG(price)\n",
        "FROM titles\n",
        "WHERE type = \"psychology\";\n",
        "```"
      ]
    },
    {
      "cell_type": "markdown",
      "metadata": {
        "id": "hUyL4mt8_uX2"
      },
      "source": [
        "## 6. Which category of books has had more year-to-date sales, \"business\" or \"popular_comp\"? You can write two queries to answer this question."
      ]
    },
    {
      "cell_type": "markdown",
      "metadata": {
        "id": "CvFoyl9A_uX2"
      },
      "source": [
        "### business"
      ]
    },
    {
      "cell_type": "code",
      "execution_count": null,
      "metadata": {
        "id": "wAeCUOzf_uX2",
        "colab": {
          "base_uri": "https://localhost:8080/"
        },
        "outputId": "9fde0a8a-6145-447f-c7d0-ecdf4729ffea"
      },
      "outputs": [
        {
          "output_type": "execute_result",
          "data": {
            "text/plain": [
              "30788"
            ]
          },
          "metadata": {},
          "execution_count": 94
        }
      ],
      "source": [
        "df5 = titles[titles[\"type\"].str.contains(\"psychology\")] \n",
        "df5.ytd_sales.sum()\n",
        "\n",
        "df5 = titles[titles[\"type\"].str.contains(\"business\")] \n",
        "df5.ytd_sales.sum()\n",
        "\n",
        "\n"
      ]
    },
    {
      "cell_type": "markdown",
      "metadata": {
        "id": "LmnPYktR_uX2"
      },
      "source": [
        "### Hint:"
      ]
    },
    {
      "cell_type": "markdown",
      "metadata": {
        "id": "7_FPavyn_uX2"
      },
      "source": [
        "In SQL the syntax is:\n",
        "\n",
        "```sql\n",
        "SELECT SUM(ytd_sales), type \n",
        "FROM titles\n",
        "WHERE type = \"business\";\n",
        "```"
      ]
    },
    {
      "cell_type": "markdown",
      "metadata": {
        "id": "rlyRIPjS_uX3"
      },
      "source": [
        "### popular_comp"
      ]
    },
    {
      "cell_type": "code",
      "execution_count": null,
      "metadata": {
        "id": "9G_sveuQ_uX3",
        "colab": {
          "base_uri": "https://localhost:8080/"
        },
        "outputId": "25c50571-8d52-4a3c-ad78-2abe037ba212"
      },
      "outputs": [
        {
          "output_type": "execute_result",
          "data": {
            "text/plain": [
              "12875"
            ]
          },
          "metadata": {},
          "execution_count": 93
        }
      ],
      "source": [
        "df5 = titles[titles[\"type\"].str.contains(\"popular_comp\")] \n",
        "df5.ytd_sales.sum()"
      ]
    },
    {
      "cell_type": "markdown",
      "metadata": {
        "id": "h2XHXuda_uX3"
      },
      "source": [
        "### Hint:"
      ]
    },
    {
      "cell_type": "markdown",
      "metadata": {
        "id": "MlzubL2S_uX3"
      },
      "source": [
        "In SQL the syntax is:\n",
        "\n",
        "```sql\n",
        "SELECT SUM(ytd_sales), type \n",
        "FROM titles\n",
        "WHERE type = \"popular_comp\";\n",
        "```"
      ]
    },
    {
      "cell_type": "markdown",
      "metadata": {
        "id": "dmD9DNhK_uX3"
      },
      "source": [
        "## 7. What's the title and the price of the most expensive book?"
      ]
    },
    {
      "cell_type": "code",
      "execution_count": null,
      "metadata": {
        "id": "mHSpcAUo_uX3",
        "colab": {
          "base_uri": "https://localhost:8080/",
          "height": 81
        },
        "outputId": "3ac7ee6a-d4e7-46f5-e36c-d4c905f900b9"
      },
      "outputs": [
        {
          "output_type": "execute_result",
          "data": {
            "text/plain": [
              "                      title  price\n",
              "7  But Is It User Friendly?  22.95"
            ],
            "text/html": [
              "\n",
              "  <div id=\"df-e2d7bb58-1d9b-4f94-9384-ed72cd255764\">\n",
              "    <div class=\"colab-df-container\">\n",
              "      <div>\n",
              "<style scoped>\n",
              "    .dataframe tbody tr th:only-of-type {\n",
              "        vertical-align: middle;\n",
              "    }\n",
              "\n",
              "    .dataframe tbody tr th {\n",
              "        vertical-align: top;\n",
              "    }\n",
              "\n",
              "    .dataframe thead th {\n",
              "        text-align: right;\n",
              "    }\n",
              "</style>\n",
              "<table border=\"1\" class=\"dataframe\">\n",
              "  <thead>\n",
              "    <tr style=\"text-align: right;\">\n",
              "      <th></th>\n",
              "      <th>title</th>\n",
              "      <th>price</th>\n",
              "    </tr>\n",
              "  </thead>\n",
              "  <tbody>\n",
              "    <tr>\n",
              "      <th>7</th>\n",
              "      <td>But Is It User Friendly?</td>\n",
              "      <td>22.95</td>\n",
              "    </tr>\n",
              "  </tbody>\n",
              "</table>\n",
              "</div>\n",
              "      <button class=\"colab-df-convert\" onclick=\"convertToInteractive('df-e2d7bb58-1d9b-4f94-9384-ed72cd255764')\"\n",
              "              title=\"Convert this dataframe to an interactive table.\"\n",
              "              style=\"display:none;\">\n",
              "        \n",
              "  <svg xmlns=\"http://www.w3.org/2000/svg\" height=\"24px\"viewBox=\"0 0 24 24\"\n",
              "       width=\"24px\">\n",
              "    <path d=\"M0 0h24v24H0V0z\" fill=\"none\"/>\n",
              "    <path d=\"M18.56 5.44l.94 2.06.94-2.06 2.06-.94-2.06-.94-.94-2.06-.94 2.06-2.06.94zm-11 1L8.5 8.5l.94-2.06 2.06-.94-2.06-.94L8.5 2.5l-.94 2.06-2.06.94zm10 10l.94 2.06.94-2.06 2.06-.94-2.06-.94-.94-2.06-.94 2.06-2.06.94z\"/><path d=\"M17.41 7.96l-1.37-1.37c-.4-.4-.92-.59-1.43-.59-.52 0-1.04.2-1.43.59L10.3 9.45l-7.72 7.72c-.78.78-.78 2.05 0 2.83L4 21.41c.39.39.9.59 1.41.59.51 0 1.02-.2 1.41-.59l7.78-7.78 2.81-2.81c.8-.78.8-2.07 0-2.86zM5.41 20L4 18.59l7.72-7.72 1.47 1.35L5.41 20z\"/>\n",
              "  </svg>\n",
              "      </button>\n",
              "      \n",
              "  <style>\n",
              "    .colab-df-container {\n",
              "      display:flex;\n",
              "      flex-wrap:wrap;\n",
              "      gap: 12px;\n",
              "    }\n",
              "\n",
              "    .colab-df-convert {\n",
              "      background-color: #E8F0FE;\n",
              "      border: none;\n",
              "      border-radius: 50%;\n",
              "      cursor: pointer;\n",
              "      display: none;\n",
              "      fill: #1967D2;\n",
              "      height: 32px;\n",
              "      padding: 0 0 0 0;\n",
              "      width: 32px;\n",
              "    }\n",
              "\n",
              "    .colab-df-convert:hover {\n",
              "      background-color: #E2EBFA;\n",
              "      box-shadow: 0px 1px 2px rgba(60, 64, 67, 0.3), 0px 1px 3px 1px rgba(60, 64, 67, 0.15);\n",
              "      fill: #174EA6;\n",
              "    }\n",
              "\n",
              "    [theme=dark] .colab-df-convert {\n",
              "      background-color: #3B4455;\n",
              "      fill: #D2E3FC;\n",
              "    }\n",
              "\n",
              "    [theme=dark] .colab-df-convert:hover {\n",
              "      background-color: #434B5C;\n",
              "      box-shadow: 0px 1px 3px 1px rgba(0, 0, 0, 0.15);\n",
              "      filter: drop-shadow(0px 1px 2px rgba(0, 0, 0, 0.3));\n",
              "      fill: #FFFFFF;\n",
              "    }\n",
              "  </style>\n",
              "\n",
              "      <script>\n",
              "        const buttonEl =\n",
              "          document.querySelector('#df-e2d7bb58-1d9b-4f94-9384-ed72cd255764 button.colab-df-convert');\n",
              "        buttonEl.style.display =\n",
              "          google.colab.kernel.accessAllowed ? 'block' : 'none';\n",
              "\n",
              "        async function convertToInteractive(key) {\n",
              "          const element = document.querySelector('#df-e2d7bb58-1d9b-4f94-9384-ed72cd255764');\n",
              "          const dataTable =\n",
              "            await google.colab.kernel.invokeFunction('convertToInteractive',\n",
              "                                                     [key], {});\n",
              "          if (!dataTable) return;\n",
              "\n",
              "          const docLinkHtml = 'Like what you see? Visit the ' +\n",
              "            '<a target=\"_blank\" href=https://colab.research.google.com/notebooks/data_table.ipynb>data table notebook</a>'\n",
              "            + ' to learn more about interactive tables.';\n",
              "          element.innerHTML = '';\n",
              "          dataTable['output_type'] = 'display_data';\n",
              "          await google.colab.output.renderOutput(dataTable, element);\n",
              "          const docLink = document.createElement('div');\n",
              "          docLink.innerHTML = docLinkHtml;\n",
              "          element.appendChild(docLink);\n",
              "        }\n",
              "      </script>\n",
              "    </div>\n",
              "  </div>\n",
              "  "
            ]
          },
          "metadata": {},
          "execution_count": 107
        }
      ],
      "source": [
        "df7 = titles[['title','price']]\n",
        "df7= df7.sort_values(by=\"price\",ascending=False)\n",
        "df7.head(1)"
      ]
    },
    {
      "cell_type": "markdown",
      "metadata": {
        "id": "4GZ02ASI_uX3"
      },
      "source": [
        "### Hint:"
      ]
    },
    {
      "cell_type": "markdown",
      "metadata": {
        "id": "kYQiU0FX_uX3"
      },
      "source": [
        "In SQL the syntax is:\n",
        "\n",
        "```sql\n",
        "SELECT title, price\n",
        "FROM titles\n",
        "ORDER BY price DESC\n",
        "LIMIT 1;\n",
        "```"
      ]
    },
    {
      "cell_type": "markdown",
      "metadata": {
        "id": "llToHh-w_uX4"
      },
      "source": [
        "## 8. What's the price of the most expensive psychology book?"
      ]
    },
    {
      "cell_type": "code",
      "execution_count": null,
      "metadata": {
        "id": "jlk-qt7T_uX4",
        "colab": {
          "base_uri": "https://localhost:8080/"
        },
        "outputId": "d8b7e2a6-96dd-46b9-d78e-4c0274e7d49a"
      },
      "outputs": [
        {
          "output_type": "execute_result",
          "data": {
            "text/plain": [
              "21.59"
            ]
          },
          "metadata": {},
          "execution_count": 121
        }
      ],
      "source": [
        "df8 = titles[titles[\"type\"].str.contains(\"psychology\")] \n",
        "df8.price.max()"
      ]
    },
    {
      "cell_type": "markdown",
      "metadata": {
        "id": "6gMJSdfK_uX4"
      },
      "source": [
        "### Hint:"
      ]
    },
    {
      "cell_type": "markdown",
      "metadata": {
        "id": "DV7PNCKx_uX4"
      },
      "source": [
        "In SQL the syntax is:\n",
        "\n",
        "```sql\n",
        "SELECT MAX(price) \n",
        "FROM titles\n",
        "WHERE type = \"psychology\";\n",
        "```"
      ]
    },
    {
      "cell_type": "markdown",
      "metadata": {
        "id": "4NJzw0Po_uX4"
      },
      "source": [
        "## 9. How many authors live in either San Jose or Salt Lake City\n"
      ]
    },
    {
      "cell_type": "code",
      "execution_count": null,
      "metadata": {
        "id": "Iq4ERSpE_uX4",
        "colab": {
          "base_uri": "https://localhost:8080/"
        },
        "outputId": "6b6498d3-6e69-481e-eadb-8330af5ced17"
      },
      "outputs": [
        {
          "output_type": "execute_result",
          "data": {
            "text/plain": [
              "3"
            ]
          },
          "metadata": {},
          "execution_count": 142
        }
      ],
      "source": [
        "df9 = authors[(authors[\"city\"].str.contains(\"San Jose\")) | (authors[\"city\"].str.contains(\"Salt Lake City\"))]\n",
        "df9.au_fname.count()"
      ]
    },
    {
      "cell_type": "markdown",
      "metadata": {
        "id": "4GhhEvLj_uX4"
      },
      "source": [
        "### Hint:"
      ]
    },
    {
      "cell_type": "markdown",
      "metadata": {
        "id": "FG4oVGiD_uX4"
      },
      "source": [
        "In SQL the syntax is:\n",
        "\n",
        "```sql\n",
        "SELECT COUNT(au_id)\n",
        "FROM authors\n",
        "WHERE (city = \"San Jose\" \n",
        "OR city = \"Salt Lake City\");\n",
        "```"
      ]
    }
  ],
  "metadata": {
    "kernelspec": {
      "display_name": "Pandas",
      "language": "python",
      "name": "python3"
    },
    "language_info": {
      "codemirror_mode": {
        "name": "ipython",
        "version": 3
      },
      "file_extension": ".py",
      "mimetype": "text/x-python",
      "name": "python",
      "nbconvert_exporter": "python",
      "pygments_lexer": "ipython3",
      "version": "3.9.15 (main, Nov 24 2022, 14:39:17) [MSC v.1916 64 bit (AMD64)]"
    },
    "orig_nbformat": 4,
    "vscode": {
      "interpreter": {
        "hash": "d3320157bbf74c474a389ba3c249fd8129c2512710cab608d52eccd3d813ad2b"
      }
    },
    "colab": {
      "provenance": [],
      "include_colab_link": true
    }
  },
  "nbformat": 4,
  "nbformat_minor": 0
}